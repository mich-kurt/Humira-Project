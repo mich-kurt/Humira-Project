{
  "nbformat": 4,
  "nbformat_minor": 0,
  "metadata": {
    "colab": {
      "provenance": [],
      "authorship_tag": "ABX9TyNow8mOCxA5LOYyjb6os8WG",
      "include_colab_link": true
    },
    "kernelspec": {
      "name": "python3",
      "display_name": "Python 3"
    },
    "language_info": {
      "name": "python"
    }
  },
  "cells": [
    {
      "cell_type": "markdown",
      "metadata": {
        "id": "view-in-github",
        "colab_type": "text"
      },
      "source": [
        "<a href=\"https://colab.research.google.com/github/mich-kurt/Humira-Project/blob/main/Data_Mining_Humira_Comments.ipynb\" target=\"_parent\"><img src=\"https://colab.research.google.com/assets/colab-badge.svg\" alt=\"Open In Colab\"/></a>"
      ]
    },
    {
      "cell_type": "code",
      "execution_count": 8,
      "metadata": {
        "id": "54X6_q3YAqjB"
      },
      "outputs": [],
      "source": [
        "import requests\n",
        "from bs4 import BeautifulSoup\n",
        "import pandas as pd\n",
        "import matplotlib.pyplot as plt\n",
        "import numpy as np\n",
        "from matplotlib import colors\n",
        "from matplotlib.ticker import PercentFormatter\n",
        "# Make an HTTP request to the URL\n",
        "url = \"https://www.drugs.com/comments/adalimumab/humira.html\"\n",
        "response = requests.get(url)\n",
        "\n",
        "# Check if the request was successful\n",
        "if response.status_code == 200:\n",
        "    # Parse the content with BeautifulSoup\n",
        "    soup = BeautifulSoup(response.text, 'html.parser')\n",
        "    # Now you can work with the parsed HTML content in the 'soup' variable\n",
        "else:\n",
        "    print(\"Failed to retrieve the web page. Status code:\", response.status_code)\n"
      ]
    },
    {
      "cell_type": "code",
      "source": [
        "paragraphs = soup.find_all('p')\n",
        "\n",
        "# Extract and print the text from each <p> element\n",
        "comments = [p.get_text() for p in paragraphs]\n",
        "substring = '\\nHumira\\n\\t\\t\\t\\thas an average rating of 6.2 out of 10 from a total of 668 reviews\\n\\t\\t\\t\\t\\ton Drugs.com.\\n\\t\\t\\t\\t54% of reviewers reported a positive experience, while 33% reported a negative experience.\\n\\t',\n",
        "comments.pop(0)\n",
        "del comments[25:33]\n",
        "\n",
        "\n"
      ],
      "metadata": {
        "id": "tICHY6rmCGAQ"
      },
      "execution_count": 9,
      "outputs": []
    },
    {
      "cell_type": "code",
      "source": [
        "header = []\n",
        "body = []\n",
        "#Cleaning out the HTML information\n",
        "for i, comment in enumerate(comments):\n",
        "    parts = comment.split('\\t\\t\\t\\t\\t\\t\\t')\n",
        "    header.append(parts[0])\n",
        "    body.append(parts[1])\n",
        "#Creating a column to send it to a CSV for additional useage\n",
        "df_header = pd.DataFrame(header, columns=['Drug Usage'])\n",
        "df_body = pd.DataFrame(body, columns=['Comment'])\n",
        "\n",
        "Table = pd.concat([df_header, df_body], axis=1)\n",
        "Table.to_csv(\"Reviews\", index = False)\n"
      ],
      "metadata": {
        "id": "4uJS1iEnNwe6"
      },
      "execution_count": 10,
      "outputs": []
    },
    {
      "cell_type": "code",
      "source": [
        "# -> if wanted to use the CSV for analysis Reviews = pd.read_csv(\"Reviews\")\n",
        "\n",
        "l1 = []\n",
        "disease = []\n",
        "for i in Table[\"Drug Usage\"]:\n",
        "  l1.append(i)\n",
        "for i in l1:\n",
        "  parts = i.split(\"For\")\n",
        "  disease.append(parts[1])\n",
        "print(disease)"
      ],
      "metadata": {
        "id": "svluv5jvRGIQ",
        "colab": {
          "base_uri": "https://localhost:8080/"
        },
        "outputId": "a43df4ab-5fb5-40e0-9d8d-32b60ce8bc4e"
      },
      "execution_count": 11,
      "outputs": [
        {
          "output_type": "stream",
          "name": "stdout",
          "text": [
            "[' Rheumatoid Arthritis ', ' Rheumatoid Arthritis ', ' Rheumatoid Arthritis ', ' Rheumatoid Arthritis ', ' Rheumatoid Arthritis ', ' Hidradenitis Suppurativa ', ' Rheumatoid Arthritis ', ' Rheumatoid Arthritis ', ' Rheumatoid Arthritis ', ' Ankylosing Spondylitis ', ' Rheumatoid Arthritis ', ' Rheumatoid Arthritis ', ' Ankylosing Spondylitis ', ' Rheumatoid Arthritis ', ' Psoriasis ', ' Rheumatoid Arthritis ', ' Ankylosing Spondylitis ', ' Rheumatoid Arthritis ', ' Rheumatoid Arthritis ', ' Rheumatoid Arthritis ', ' Rheumatoid Arthritis ', ' Ankylosing Spondylitis ', ' Psoriatic Arthritis ', ' Ankylosing Spondylitis ', \" Crohn's Disease, Maintenance \"]\n"
          ]
        }
      ]
    },
    {
      "cell_type": "code",
      "source": [
        "surveyers_usage = {}\n",
        "\n",
        "for i in disease:\n",
        "    if i not in surveyers_usage:\n",
        "      surveyers_usage[i] = 1\n",
        "    else:\n",
        "      surveyers_usage[i] += 1\n"
      ],
      "metadata": {
        "id": "4fp4hHSZU6a2"
      },
      "execution_count": null,
      "outputs": []
    },
    {
      "cell_type": "code",
      "source": [
        "X = list(surveyers_usage.keys())\n",
        "Y = list(surveyers_usage.values())\n",
        "plt.bar(X,Y)\n",
        "plt.xticks(rotation=25)  # Rotate labels by 45 degrees"
      ],
      "metadata": {
        "colab": {
          "base_uri": "https://localhost:8080/",
          "height": 643
        },
        "id": "X3uppm2fU7zV",
        "outputId": "b010a140-685b-487c-8d12-65253b49bb8e"
      },
      "execution_count": 12,
      "outputs": [
        {
          "output_type": "execute_result",
          "data": {
            "text/plain": [
              "([0, 1, 2, 3, 4, 5],\n",
              " [Text(0, 0, ' Rheumatoid Arthritis '),\n",
              "  Text(1, 0, ' Hidradenitis Suppurativa '),\n",
              "  Text(2, 0, ' Ankylosing Spondylitis '),\n",
              "  Text(3, 0, ' Psoriasis '),\n",
              "  Text(4, 0, ' Psoriatic Arthritis '),\n",
              "  Text(5, 0, \" Crohn's Disease, Maintenance \")])"
            ]
          },
          "metadata": {},
          "execution_count": 12
        },
        {
          "output_type": "display_data",
          "data": {
            "text/plain": [
              "<Figure size 640x480 with 1 Axes>"
            ],
            "image/png": "[encoded data removed]"
          },
          "metadata": {}
        }
      ]
    },
    {
      "cell_type": "code",
      "source": [
        "#! pip install transformers datasets"
      ],
      "metadata": {
        "id": "g9eXcDmmVBE2",
        "colab": {
          "base_uri": "https://localhost:8080/"
        },
        "outputId": "91c88b3c-b135-488b-f9b2-d0c264da6564"
      },
      "execution_count": 13,
      "outputs": [
        {
          "output_type": "stream",
          "name": "stdout",
          "text": [
            "Collecting transformers\n",
            "  Downloading transformers-4.35.0-py3-none-any.whl (7.9 MB)\n",
            "\u001b[2K     \u001b[91m━━━━\u001b[0m\u001b[90m╺\u001b[0m\u001b[90m━━━━━━━━━━━━━━━━━━━━━━━━━━━━━━━━━━━\u001b[0m \u001b[32m0.8/7.9 MB\u001b[0m \u001b[31m10.8 MB/s\u001b[0m eta \u001b[36m0:00:01\u001b[0m\n",
            "\u001b[?25h\u001b[31mERROR: Operation cancelled by user\u001b[0m\u001b[31m\n",
            "\u001b[0m"
          ]
        }
      ]
    },
    {
      "cell_type": "code",
      "source": [
        "#only run this if you have transformers installed above\n",
        "#This is using hugging face models to setiment analyze the comments\n",
        "'''\n",
        "Table['Comment'] = Table['Comment'].str.replace('\\n', '')\n",
        "\n",
        "# Print the updated 'Comment' column\n",
        "label_results = {}\n",
        "\n",
        "for j in Table['Comment']:\n",
        "  model_outputs = classifier(j)\n",
        "  for i in model_outputs:\n",
        "    if i['label'] not in label_results:\n",
        "     label_results[i['label']] = 1\n",
        "    else:\n",
        "      label_results[i['label']] += 1\n",
        "label_results\n",
        "'''"
      ],
      "metadata": {
        "id": "sbqAsKQ4VA_M",
        "colab": {
          "base_uri": "https://localhost:8080/",
          "height": 53
        },
        "outputId": "a7d409ee-a7fe-42df-bb11-f673e6cda1c7"
      },
      "execution_count": 19,
      "outputs": [
        {
          "output_type": "execute_result",
          "data": {
            "text/plain": [
              "\"\\nTable['Comment'] = Table['Comment'].str.replace('\\n', '')\\n\\n# Print the updated 'Comment' column\\nlabel_results = {}\\n\\nfor j in Table['Comment']:\\n  model_outputs = classifier(j)\\n  for i in model_outputs:\\n    if i['label'] not in label_results:\\n     label_results[i['label']] = 1\\n    else:\\n      label_results[i['label']] += 1\\nlabel_results\\n\""
            ],
            "application/vnd.google.colaboratory.intrinsic+json": {
              "type": "string"
            }
          },
          "metadata": {},
          "execution_count": 19
        }
      ]
    }
  ]
}